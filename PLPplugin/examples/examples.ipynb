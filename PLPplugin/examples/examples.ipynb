{
 "cells": [
  {
   "cell_type": "code",
   "execution_count": 1,
   "metadata": {},
   "outputs": [],
   "source": [
    "import numpy as np\n",
    "import matplotlib.pyplot as plt\n",
    "%matplotlib inline"
   ]
  },
  {
   "cell_type": "markdown",
   "metadata": {},
   "source": [
    "### Example 1"
   ]
  },
  {
   "cell_type": "markdown",
   "metadata": {},
   "source": [
    "#### M. Buback, M. Busch, R.A. Lämmel, Modeling of molecular weight distribution in pulsed laser free-radical homopolymerizations, Macromol. Theory Simulations. 5 (1996) 845–861. DOI:10.1002/mats.1996.040050505."
   ]
  },
  {
   "cell_type": "code",
   "execution_count": 4,
   "metadata": {},
   "outputs": [
    {
     "name": "stdout",
     "output_type": "stream",
     "text": [
      "# time tick\r\n",
      "set DT 0.0001\r\n",
      "# Burst delay\r\n",
      "set BD 0\r\n",
      "# Bursts number\r\n",
      "set BN 1\r\n",
      "# Number of laser pulses\r\n",
      "set NP 12\r\n",
      "# Pulses repetition rate (Hz)\r\n",
      "set PRR 10\r\n",
      "# Total simulation time (s)\r\n",
      "set ST 2\r\n",
      "# Simulation Number of Molecules\r\n",
      "set SNM 1e14\r\n",
      "\r\n",
      "\r\n",
      "# Model settings\r\n",
      "# primary radicals conc. per pulse\r\n",
      "set R0 5e-7\r\n",
      "\r\n",
      "set MW 100.12 \r\n",
      "set M0 [expr 940.0/100.12]\r\n",
      "set kip 4800\r\n",
      "set kp 480\r\n",
      "set ktd [expr 0.5*2.5e7]\r\n",
      "set ktc [expr 0.5*2.5e7]\r\n",
      "\r\n"
     ]
    }
   ],
   "source": [
    "mwd = np.loadtxt('Buback1996/D.2.00000000000000e+00.HlogM.dat')\n",
    "cld = np.loadtxt('Buback1996/D.2.00000000000000e+00.cld', skiprows=3)\n",
    "R1 = np.loadtxt('Buback1996/cI_.dat')\n",
    "R2 = np.loadtxt('Buback1996/cP_.dat')\n",
    "\n",
    "%cat 'Buback1996/experiment_setup.tcl'"
   ]
  },
  {
   "cell_type": "code",
   "execution_count": 8,
   "metadata": {},
   "outputs": [
    {
     "data": {
      "image/png": "[encoded data removed]",
      "text/plain": [
       "<Figure size 432x288 with 1 Axes>"
      ]
     },
     "metadata": {
      "needs_background": "light"
     },
     "output_type": "display_data"
    }
   ],
   "source": [
    "plt.xlim(3,6)\n",
    "plt.ylim(0,2)\n",
    "\n",
    "plt.plot(mwd[:,0], mwd[:,1])\n",
    "\n",
    "\n",
    "#kp = 480\n",
    "#Mw = 100.12 \n",
    "#M0 = 940.0/100.12\n",
    "#t0 = 1/10.0\n",
    "\n",
    "# expected POI\n",
    "\n",
    "#M1 = 1*kp*Mw*M0*t0\n",
    "#M2 = 2*kp*Mw*M0*t0\n",
    "#M3 = 3*kp*Mw*M0*t0\n",
    "#M4 = 4*kp*Mw*M0*t0\n",
    "\n",
    "#logM1 =  np.log10(M1)\n",
    "#logM2 =  np.log10(M2)\n",
    "#logM3 =  np.log10(M3)\n",
    "#logM4 =  np.log10(M4)\n",
    "\n",
    "plt.ylabel('w', fontsize=18)\n",
    "plt.xlabel('log(M)', fontsize=18)\n",
    "plt.xticks(fontsize=18)\n",
    "plt.yticks([],fontsize=18)\n",
    "plt.tight_layout()\n",
    "\n",
    "#plt.plot((logM1, logM1),(0,1.5),'k:')\n",
    "#plt.plot((logM2, logM2),(0,1.5),'k:')\n",
    "#plt.plot((logM3, logM3),(0,1.5),'k:')\n",
    "#plt.plot((logM4, logM4),(0,1.5),'k:')\n",
    "plt.show()"
   ]
  },
  {
   "cell_type": "markdown",
   "metadata": {},
   "source": [
    "#### Here are results of calculations done by M. Buback, M. Busch and R.A. Lämmel:\n",
    "\n",
    "\n",
    "<img src=\"Buback1996mwd.png\" alt=\"plot\" align=\"left\" style=\"width: 400px;\"/>"
   ]
  },
  {
   "cell_type": "markdown",
   "metadata": {},
   "source": [
    "## Example 2\n",
    "\n",
    "\n",
    "#### P. Vana, L. H. Yee, C. Barner-Kowollik, J. P. A. Heuts, T. P. Davis, Termination Rate Coefficient of Dimethyl Itaconate: Comparison of Modeling and Experimental Results, Macromolecules 2002, 35, 1651. DOI:10.1021/ma011535v"
   ]
  },
  {
   "cell_type": "code",
   "execution_count": 9,
   "metadata": {},
   "outputs": [
    {
     "ename": "OSError",
     "evalue": "Vana2002/D.2.00000000000000e+00.HlogM.dat not found.",
     "output_type": "error",
     "traceback": [
      "\u001b[0;31m---------------------------------------------------------------------------\u001b[0m",
      "\u001b[0;31mOSError\u001b[0m                                   Traceback (most recent call last)",
      "\u001b[0;32m<ipython-input-9-2462d3005d02>\u001b[0m in \u001b[0;36m<module>\u001b[0;34m\u001b[0m\n\u001b[0;32m----> 1\u001b[0;31m \u001b[0mmwd\u001b[0m \u001b[0;34m=\u001b[0m \u001b[0mnp\u001b[0m\u001b[0;34m.\u001b[0m\u001b[0mloadtxt\u001b[0m\u001b[0;34m(\u001b[0m\u001b[0;34m'Vana2002/D.2.00000000000000e+00.HlogM.dat'\u001b[0m\u001b[0;34m)\u001b[0m\u001b[0;34m\u001b[0m\u001b[0;34m\u001b[0m\u001b[0m\n\u001b[0m\u001b[1;32m      2\u001b[0m \u001b[0mcld\u001b[0m \u001b[0;34m=\u001b[0m \u001b[0mnp\u001b[0m\u001b[0;34m.\u001b[0m\u001b[0mloadtxt\u001b[0m\u001b[0;34m(\u001b[0m\u001b[0;34m'Vana2002/D.2.00000000000000e+00.cld'\u001b[0m\u001b[0;34m,\u001b[0m \u001b[0mskiprows\u001b[0m\u001b[0;34m=\u001b[0m\u001b[0;36m3\u001b[0m\u001b[0;34m)\u001b[0m\u001b[0;34m\u001b[0m\u001b[0;34m\u001b[0m\u001b[0m\n\u001b[1;32m      3\u001b[0m \u001b[0mR1\u001b[0m \u001b[0;34m=\u001b[0m \u001b[0mnp\u001b[0m\u001b[0;34m.\u001b[0m\u001b[0mloadtxt\u001b[0m\u001b[0;34m(\u001b[0m\u001b[0;34m'Vana2002/cI_.dat'\u001b[0m\u001b[0;34m)\u001b[0m\u001b[0;34m\u001b[0m\u001b[0;34m\u001b[0m\u001b[0m\n\u001b[1;32m      4\u001b[0m \u001b[0mR2\u001b[0m \u001b[0;34m=\u001b[0m \u001b[0mnp\u001b[0m\u001b[0;34m.\u001b[0m\u001b[0mloadtxt\u001b[0m\u001b[0;34m(\u001b[0m\u001b[0;34m'Vana2002/cP_.dat'\u001b[0m\u001b[0;34m)\u001b[0m\u001b[0;34m\u001b[0m\u001b[0;34m\u001b[0m\u001b[0m\n\u001b[1;32m      5\u001b[0m \u001b[0;34m\u001b[0m\u001b[0m\n",
      "\u001b[0;32m~/anaconda3/lib/python3.7/site-packages/numpy/lib/npyio.py\u001b[0m in \u001b[0;36mloadtxt\u001b[0;34m(fname, dtype, comments, delimiter, converters, skiprows, usecols, unpack, ndmin, encoding, max_rows)\u001b[0m\n\u001b[1;32m    979\u001b[0m             \u001b[0mfname\u001b[0m \u001b[0;34m=\u001b[0m \u001b[0mos_fspath\u001b[0m\u001b[0;34m(\u001b[0m\u001b[0mfname\u001b[0m\u001b[0;34m)\u001b[0m\u001b[0;34m\u001b[0m\u001b[0;34m\u001b[0m\u001b[0m\n\u001b[1;32m    980\u001b[0m         \u001b[0;32mif\u001b[0m \u001b[0m_is_string_like\u001b[0m\u001b[0;34m(\u001b[0m\u001b[0mfname\u001b[0m\u001b[0;34m)\u001b[0m\u001b[0;34m:\u001b[0m\u001b[0;34m\u001b[0m\u001b[0;34m\u001b[0m\u001b[0m\n\u001b[0;32m--> 981\u001b[0;31m             \u001b[0mfh\u001b[0m \u001b[0;34m=\u001b[0m \u001b[0mnp\u001b[0m\u001b[0;34m.\u001b[0m\u001b[0mlib\u001b[0m\u001b[0;34m.\u001b[0m\u001b[0m_datasource\u001b[0m\u001b[0;34m.\u001b[0m\u001b[0mopen\u001b[0m\u001b[0;34m(\u001b[0m\u001b[0mfname\u001b[0m\u001b[0;34m,\u001b[0m \u001b[0;34m'rt'\u001b[0m\u001b[0;34m,\u001b[0m \u001b[0mencoding\u001b[0m\u001b[0;34m=\u001b[0m\u001b[0mencoding\u001b[0m\u001b[0;34m)\u001b[0m\u001b[0;34m\u001b[0m\u001b[0;34m\u001b[0m\u001b[0m\n\u001b[0m\u001b[1;32m    982\u001b[0m             \u001b[0mfencoding\u001b[0m \u001b[0;34m=\u001b[0m \u001b[0mgetattr\u001b[0m\u001b[0;34m(\u001b[0m\u001b[0mfh\u001b[0m\u001b[0;34m,\u001b[0m \u001b[0;34m'encoding'\u001b[0m\u001b[0;34m,\u001b[0m \u001b[0;34m'latin1'\u001b[0m\u001b[0;34m)\u001b[0m\u001b[0;34m\u001b[0m\u001b[0;34m\u001b[0m\u001b[0m\n\u001b[1;32m    983\u001b[0m             \u001b[0mfh\u001b[0m \u001b[0;34m=\u001b[0m \u001b[0miter\u001b[0m\u001b[0;34m(\u001b[0m\u001b[0mfh\u001b[0m\u001b[0;34m)\u001b[0m\u001b[0;34m\u001b[0m\u001b[0;34m\u001b[0m\u001b[0m\n",
      "\u001b[0;32m~/anaconda3/lib/python3.7/site-packages/numpy/lib/_datasource.py\u001b[0m in \u001b[0;36mopen\u001b[0;34m(path, mode, destpath, encoding, newline)\u001b[0m\n\u001b[1;32m    267\u001b[0m \u001b[0;34m\u001b[0m\u001b[0m\n\u001b[1;32m    268\u001b[0m     \u001b[0mds\u001b[0m \u001b[0;34m=\u001b[0m \u001b[0mDataSource\u001b[0m\u001b[0;34m(\u001b[0m\u001b[0mdestpath\u001b[0m\u001b[0;34m)\u001b[0m\u001b[0;34m\u001b[0m\u001b[0;34m\u001b[0m\u001b[0m\n\u001b[0;32m--> 269\u001b[0;31m     \u001b[0;32mreturn\u001b[0m \u001b[0mds\u001b[0m\u001b[0;34m.\u001b[0m\u001b[0mopen\u001b[0m\u001b[0;34m(\u001b[0m\u001b[0mpath\u001b[0m\u001b[0;34m,\u001b[0m \u001b[0mmode\u001b[0m\u001b[0;34m,\u001b[0m \u001b[0mencoding\u001b[0m\u001b[0;34m=\u001b[0m\u001b[0mencoding\u001b[0m\u001b[0;34m,\u001b[0m \u001b[0mnewline\u001b[0m\u001b[0;34m=\u001b[0m\u001b[0mnewline\u001b[0m\u001b[0;34m)\u001b[0m\u001b[0;34m\u001b[0m\u001b[0;34m\u001b[0m\u001b[0m\n\u001b[0m\u001b[1;32m    270\u001b[0m \u001b[0;34m\u001b[0m\u001b[0m\n\u001b[1;32m    271\u001b[0m \u001b[0;34m\u001b[0m\u001b[0m\n",
      "\u001b[0;32m~/anaconda3/lib/python3.7/site-packages/numpy/lib/_datasource.py\u001b[0m in \u001b[0;36mopen\u001b[0;34m(self, path, mode, encoding, newline)\u001b[0m\n\u001b[1;32m    621\u001b[0m                                       encoding=encoding, newline=newline)\n\u001b[1;32m    622\u001b[0m         \u001b[0;32melse\u001b[0m\u001b[0;34m:\u001b[0m\u001b[0;34m\u001b[0m\u001b[0;34m\u001b[0m\u001b[0m\n\u001b[0;32m--> 623\u001b[0;31m             \u001b[0;32mraise\u001b[0m \u001b[0mIOError\u001b[0m\u001b[0;34m(\u001b[0m\u001b[0;34m\"%s not found.\"\u001b[0m \u001b[0;34m%\u001b[0m \u001b[0mpath\u001b[0m\u001b[0;34m)\u001b[0m\u001b[0;34m\u001b[0m\u001b[0;34m\u001b[0m\u001b[0m\n\u001b[0m\u001b[1;32m    624\u001b[0m \u001b[0;34m\u001b[0m\u001b[0m\n\u001b[1;32m    625\u001b[0m \u001b[0;34m\u001b[0m\u001b[0m\n",
      "\u001b[0;31mOSError\u001b[0m: Vana2002/D.2.00000000000000e+00.HlogM.dat not found."
     ]
    }
   ],
   "source": [
    "mwd = np.loadtxt('Vana2002/D.2.00000000000000e+00.HlogM.dat')\n",
    "cld = np.loadtxt('Vana2002/D.2.00000000000000e+00.cld', skiprows=3)\n",
    "R1 = np.loadtxt('Vana2002/cI_.dat')\n",
    "R2 = np.loadtxt('Vana2002/cP_.dat')\n",
    "\n",
    "%cat 'Vana2002/experiment_setup.tcl'"
   ]
  },
  {
   "cell_type": "code",
   "execution_count": 10,
   "metadata": {},
   "outputs": [
    {
     "name": "stdout",
     "output_type": "stream",
     "text": [
      "cD.dat                            D.5.00000000000000e+01.HlogM.dat\r\n",
      "cI_.dat                           dataProcessing.tcl\r\n",
      "cM.dat                            experiment_setup.tcl\r\n",
      "cP_.dat                           experiment.tcl\r\n",
      "D.1.00000000000000e+01.cld        init.sim\r\n",
      "D.1.00000000000000e+01.HlogM.dat  mcPolymerInterface.tcl\r\n",
      "D.2.00000000000000e+01.cld        output.out\r\n",
      "D.2.00000000000000e+01.HlogM.dat  paper.txt\r\n",
      "D.3.00000000000000e+01.cld        PLPlog.dat\r\n",
      "D.3.00000000000000e+01.HlogM.dat  PLP.tcl\r\n",
      "D.4.00000000000000e+01.cld        PolymerAnalysis.cfg\r\n",
      "D.4.00000000000000e+01.HlogM.dat  result.init\r\n",
      "D.5.00000000000000e+00.cld        run_dmi.sh\r\n",
      "D.5.00000000000000e+00.HlogM.dat  userPlugin.tcl\r\n",
      "D.5.00000000000000e+01.cld\r\n"
     ]
    }
   ],
   "source": [
    "%ls Vana2002/\n"
   ]
  },
  {
   "cell_type": "code",
   "execution_count": 11,
   "metadata": {},
   "outputs": [
    {
     "name": "stdout",
     "output_type": "stream",
     "text": [
      "# time tick\r\n",
      "set DT 0.0001\r\n",
      "# Burst delay\r\n",
      "set BD 0\r\n",
      "# Bursts number\r\n",
      "set BN 1\r\n",
      "# Number of laser pulses\r\n",
      "set NP 12\r\n",
      "# Pulses repetition rate (Hz)\r\n",
      "set PRR 10\r\n",
      "# Total simulation time (s)\r\n",
      "set ST 2\r\n",
      "# Simulation Number of Molecules\r\n",
      "set SNM 1e14\r\n",
      "\r\n",
      "\r\n",
      "# Model settings\r\n",
      "# primary radicals conc. per pulse\r\n",
      "set R0 5e-7\r\n",
      "\r\n",
      "set MW 100.12 \r\n",
      "set M0 [expr 940.0/100.12]\r\n",
      "set kip 4800\r\n",
      "set kp 480\r\n",
      "set ktd [expr 0.5*2.5e7]\r\n",
      "set ktc [expr 0.5*2.5e7]\r\n",
      "\r\n"
     ]
    }
   ],
   "source": [
    "%cat 'Buback1996/experiment_setup.tcl'"
   ]
  },
  {
   "cell_type": "code",
   "execution_count": null,
   "metadata": {},
   "outputs": [],
   "source": []
  }
 ],
 "metadata": {
  "kernelspec": {
   "display_name": "Python 3",
   "language": "python",
   "name": "python3"
  },
  "language_info": {
   "codemirror_mode": {
    "name": "ipython",
    "version": 3
   },
   "file_extension": ".py",
   "mimetype": "text/x-python",
   "name": "python",
   "nbconvert_exporter": "python",
   "pygments_lexer": "ipython3",
   "version": "3.7.4"
  }
 },
 "nbformat": 4,
 "nbformat_minor": 2
}
